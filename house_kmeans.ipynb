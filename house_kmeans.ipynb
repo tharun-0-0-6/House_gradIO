import numpy as np
import pandas as pd
import ipywidgets as widgets
from sklearn.model_selection import train_test_split
from sklearn.cluster import KMeans

# Load and train model
def load_and_train_model(file):
    df = pd.read_csv(file)

    # Define features and target variable
    X = df[["Size (sq ft)", "Bedrooms", "Location Score"]]

    # Use KMeans to categorize house prices (3 clusters: Low, Medium, High)
    kmeans = KMeans(n_clusters=3, random_state=42)
    kmeans.fit(X)

    return kmeans

# Prediction function
def predict_price_category(model, size, bedrooms, location_score):
    new_house = np.array([[size, bedrooms, location_score]])
    predicted_cluster = model.predict(new_house)[0]

    # Map cluster to price category
    if predicted_cluster == 0:
        category = "Low"
    elif predicted_cluster == 1:
        category = "Medium"
    else:
        category = "High"

    return f"Predicted Price Category: {category}"

# Create widgets
file_upload = widgets.FileUpload(accept='.csv', multiple=False)
size_widget = widgets.IntText(value=1500, description='Size (sq ft):')
bedrooms_widget = widgets.IntText(value=3, description='Bedrooms:')
location_score_widget = widgets.IntSlider(value=7, min=1, max=10, description='Location Score:')

output = widgets.Output()

def on_button_click(b):
    # Load and train KMeans model
    model = load_and_train_model(file_upload.value[0]['content'])
    # Get prediction
    prediction = predict_price_category(model, size_widget.value, bedrooms_widget.value, location_score_widget.value)
    # Display prediction
    with output:
        print(prediction)

# Create button to trigger prediction
button = widgets.Button(description="Predict Price Category")
button.on_click(on_button_click)

# Display the widgets
display(file_upload, size_widget, bedrooms_widget, location_score_widget, button, output)
